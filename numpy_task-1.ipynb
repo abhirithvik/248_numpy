{
 "cells": [
  {
   "cell_type": "code",
   "execution_count": 4,
   "id": "dc5c9656",
   "metadata": {},
   "outputs": [
    {
     "data": {
      "text/plain": [
       "12"
      ]
     },
     "execution_count": 4,
     "metadata": {},
     "output_type": "execute_result"
    }
   ],
   "source": [
    "# Create an 1D array with size=12, using\n",
    "# a) np.arange \n",
    "import numpy as np\n",
    "a = np.array(range(1,13))\n",
    "a.size"
   ]
  },
  {
   "cell_type": "code",
   "execution_count": 62,
   "id": "d581aede",
   "metadata": {},
   "outputs": [
    {
     "name": "stdout",
     "output_type": "stream",
     "text": [
      "[ 1  2  3  4  5  6  7  8  9 10 11 12]\n"
     ]
    }
   ],
   "source": [
    "# Create an 1D array with size=12, using \n",
    "# b) np.array \n",
    "a_r = np.arange(1,13,1)\n",
    "print(a_r.size)\n",
    "print(a_r)"
   ]
  },
  {
   "cell_type": "code",
   "execution_count": 20,
   "id": "1f4b1402",
   "metadata": {},
   "outputs": [],
   "source": [
    "# using the same elements create arrays with shape (3,4) , (3,4,1 ), (4,3,1),(4,1,3),(2,6)\n",
    "# create them using \n",
    "# a) use brackets syntax(general way of creating)\n",
    "a = np.array([[1,2,3,4],[1,2,3,4],[1,2,3,4]])\n",
    "b = np.array([[[1],[2],[1],[2]],[[3],[4],[1],[2]],[[3],[4],[1],[2]]])\n",
    "c = np.array([[[1],[2],[1]],[[3],[4],[2]],[[3],[4],[2]],[[3],[4],[2]]])\n",
    "d = np.array([[[1,2,3]],[[2,1,3]],[[2,5,4]],[[2,2,3]]])\n",
    "e = np.array([[1,2,3,4,5,6],[1,2,3,4,5,6]])"
   ]
  },
  {
   "cell_type": "code",
   "execution_count": 37,
   "id": "9f2570e0",
   "metadata": {},
   "outputs": [
    {
     "name": "stdout",
     "output_type": "stream",
     "text": [
      "(3, 4)\n",
      "12\n",
      "2\n"
     ]
    }
   ],
   "source": [
    "print(a.shape)\n",
    "print(a.size)\n",
    "print(a.ndim)"
   ]
  },
  {
   "cell_type": "code",
   "execution_count": 38,
   "id": "e9241d09",
   "metadata": {},
   "outputs": [
    {
     "name": "stdout",
     "output_type": "stream",
     "text": [
      "(3, 4, 1)\n",
      "12\n",
      "3\n"
     ]
    }
   ],
   "source": [
    "print(b.shape)\n",
    "print(b.size)\n",
    "print(b.ndim)"
   ]
  },
  {
   "cell_type": "code",
   "execution_count": 39,
   "id": "3ba2eae2",
   "metadata": {},
   "outputs": [
    {
     "name": "stdout",
     "output_type": "stream",
     "text": [
      "(4, 3, 1)\n",
      "12\n",
      "3\n"
     ]
    }
   ],
   "source": [
    "print(c.shape)\n",
    "print(c.size)\n",
    "print(c.ndim)"
   ]
  },
  {
   "cell_type": "code",
   "execution_count": 40,
   "id": "4bc84cb0",
   "metadata": {},
   "outputs": [
    {
     "name": "stdout",
     "output_type": "stream",
     "text": [
      "(4, 1, 3)\n",
      "12\n",
      "3\n"
     ]
    }
   ],
   "source": [
    "print(d.shape)\n",
    "print(d.size)\n",
    "print(d.ndim)"
   ]
  },
  {
   "cell_type": "code",
   "execution_count": 41,
   "id": "6c7a007d",
   "metadata": {},
   "outputs": [
    {
     "name": "stdout",
     "output_type": "stream",
     "text": [
      "(2, 6)\n",
      "12\n",
      "2\n"
     ]
    }
   ],
   "source": [
    "print(e.shape)\n",
    "print(e.size)\n",
    "print(e.ndim)"
   ]
  },
  {
   "cell_type": "code",
   "execution_count": 36,
   "id": "b819155d",
   "metadata": {},
   "outputs": [
    {
     "name": "stdout",
     "output_type": "stream",
     "text": [
      "[[1 2]\n",
      " [3 4]\n",
      " [5 6]\n",
      " [1 2]\n",
      " [3 4]\n",
      " [5 6]]\n",
      "12\n",
      "2\n"
     ]
    }
   ],
   "source": [
    "# create them using \n",
    "# b) use reshape method\n",
    "e = np.array([[1,2,3,4,5,6],[1,2,3,4,5,6]]) # it is in shape(2,6)\n",
    "print(e.reshape(6,2))\n",
    "print(e.size)\n",
    "print(e.ndim)"
   ]
  },
  {
   "cell_type": "code",
   "execution_count": 34,
   "id": "6f294401",
   "metadata": {},
   "outputs": [
    {
     "name": "stdout",
     "output_type": "stream",
     "text": [
      "[[[1 2 1]]\n",
      "\n",
      " [[2 3 4]]\n",
      "\n",
      " [[1 2 3]]\n",
      "\n",
      " [[4 1 2]]]\n",
      "12\n",
      "3\n"
     ]
    }
   ],
   "source": [
    "b = np.array([[[1],[2],[1],[2]],[[3],[4],[1],[2]],[[3],[4],[1],[2]]]) # it is in shape(3,4,1)\n",
    "print(b.reshape(4,1,3))\n",
    "print(b.size)\n",
    "print(b.ndim)"
   ]
  },
  {
   "cell_type": "code",
   "execution_count": 45,
   "id": "f32ad845",
   "metadata": {},
   "outputs": [
    {
     "name": "stdout",
     "output_type": "stream",
     "text": [
      "[[9 9 9 9 9 9 9 9 9]\n",
      " [9 9 9 9 9 9 9 9 9]\n",
      " [9 9 9 9 9 9 9 9 9]\n",
      " [9 9 9 9 9 9 9 9 9]\n",
      " [9 9 9 9 9 9 9 9 9]\n",
      " [9 9 9 9 9 9 9 9 9]\n",
      " [9 9 9 9 9 9 9 9 9]\n",
      " [9 9 9 9 9 9 9 9 9]\n",
      " [9 9 9 9 9 9 9 9 9]]\n"
     ]
    }
   ],
   "source": [
    "# create full array shape (9*9) with element 9 ,zero arrays shape (2,3,4), ones array shape (4,3,2)\n",
    "# a) using general syntax\n",
    "array_9 = np.array([[9, 9, 9 ,9, 9, 9, 9 ,9 ,9],[9, 9, 9, 9, 9, 9, 9, 9, 9],[9, 9, 9, 9, 9, 9, 9, 9, 9],[9, 9, 9, 9, 9, 9, 9, 9, 9],[9, 9, 9, 9, 9, 9, 9, 9, 9],[9, 9, 9, 9, 9, 9, 9, 9, 9],[9, 9, 9, 9, 9, 9, 9, 9, 9],[9, 9, 9, 9, 9, 9, 9, 9, 9],[9, 9, 9, 9, 9, 9, 9, 9, 9]])\n",
    "print(array_9)\n"
   ]
  },
  {
   "cell_type": "code",
   "execution_count": 51,
   "id": "49d4d6b7",
   "metadata": {},
   "outputs": [
    {
     "name": "stdout",
     "output_type": "stream",
     "text": [
      "(2, 3, 4)\n"
     ]
    }
   ],
   "source": [
    "z = np.array([[[0, 0, 0, 0],[0, 0, 0, 0],[0, 0, 0, 0]],[[0, 0, 0 ,0],[0, 0, 0, 0],[0, 0, 0, 0]]])\n",
    "\n",
    "print(z.shape)  "
   ]
  },
  {
   "cell_type": "code",
   "execution_count": 53,
   "id": "5f19de54",
   "metadata": {},
   "outputs": [
    {
     "data": {
      "text/plain": [
       "(4, 3, 2)"
      ]
     },
     "execution_count": 53,
     "metadata": {},
     "output_type": "execute_result"
    }
   ],
   "source": [
    "x = np.array([[[1,1],[1,1],[1,1]],[[1,1],[1,1],[1,1]],[[1,1],[1,1],[1,1]],[[1,1],[1,1],[1,1]]])\n",
    "x.shape"
   ]
  },
  {
   "cell_type": "code",
   "execution_count": 55,
   "id": "eda32188",
   "metadata": {},
   "outputs": [
    {
     "name": "stdout",
     "output_type": "stream",
     "text": [
      "[[[0. 0. 0. 0.]\n",
      "  [0. 0. 0. 0.]\n",
      "  [0. 0. 0. 0.]]\n",
      "\n",
      " [[0. 0. 0. 0.]\n",
      "  [0. 0. 0. 0.]\n",
      "  [0. 0. 0. 0.]]]\n"
     ]
    }
   ],
   "source": [
    "# create full array shape (9*9) with element 9 ,zero arrays shape (2,3,4), ones array shape (4,3,2)\n",
    "# b) using respective functions( like full,zero,ones)\n",
    "\n",
    "\n",
    "z = np.zeros((2, 3, 4))\n",
    "print(z)\n"
   ]
  },
  {
   "cell_type": "code",
   "execution_count": 57,
   "id": "0571b380",
   "metadata": {},
   "outputs": [
    {
     "name": "stdout",
     "output_type": "stream",
     "text": [
      "[[[1. 1.]\n",
      "  [1. 1.]\n",
      "  [1. 1.]]\n",
      "\n",
      " [[1. 1.]\n",
      "  [1. 1.]\n",
      "  [1. 1.]]\n",
      "\n",
      " [[1. 1.]\n",
      "  [1. 1.]\n",
      "  [1. 1.]]\n",
      "\n",
      " [[1. 1.]\n",
      "  [1. 1.]\n",
      "  [1. 1.]]]\n"
     ]
    }
   ],
   "source": [
    "p = np.ones((4,3,2))\n",
    "print(p)"
   ]
  },
  {
   "cell_type": "code",
   "execution_count": 58,
   "id": "61735276",
   "metadata": {},
   "outputs": [
    {
     "name": "stdout",
     "output_type": "stream",
     "text": [
      "[[9 9 9 9 9 9 9 9 9]\n",
      " [9 9 9 9 9 9 9 9 9]\n",
      " [9 9 9 9 9 9 9 9 9]\n",
      " [9 9 9 9 9 9 9 9 9]\n",
      " [9 9 9 9 9 9 9 9 9]\n",
      " [9 9 9 9 9 9 9 9 9]\n",
      " [9 9 9 9 9 9 9 9 9]\n",
      " [9 9 9 9 9 9 9 9 9]\n",
      " [9 9 9 9 9 9 9 9 9]]\n"
     ]
    }
   ],
   "source": [
    "y = np.full((9,9),9)\n",
    "print(y)"
   ]
  },
  {
   "cell_type": "code",
   "execution_count": 65,
   "id": "34adff73",
   "metadata": {},
   "outputs": [
    {
     "name": "stdout",
     "output_type": "stream",
     "text": [
      "(2,)\n",
      "2\n",
      "12\n",
      "[ 1  2  3  4  5  6  7  8  9 10 11 12]\n"
     ]
    }
   ],
   "source": [
    "# using your own examples try showing the Difference between\n",
    "# a) range, arange \n",
    "a = np.array(range(1,3))\n",
    "print(a.shape)\n",
    "print(a.size)\n",
    "# arange is a build in function ,we can use to generate the numpy array,and also it can change to float values,but\n",
    "# we can't change tha range to float values\n",
    "a_r = np.arange(1,13,1)\n",
    "print(a_r.size)\n",
    "print(a_r)\n"
   ]
  },
  {
   "cell_type": "code",
   "execution_count": 70,
   "id": "0308fbda",
   "metadata": {},
   "outputs": [
    {
     "name": "stdout",
     "output_type": "stream",
     "text": [
      "[  1.  12.  23.  34.  45.  56.  67.  78.  89. 100.]\n",
      "[ 1  2  3  4  5  6  7  8  9 10 11 12]\n"
     ]
    }
   ],
   "source": [
    "# using your own examples try showing the Difference between\n",
    "# b) linspace,arange\n",
    "\n",
    "\n",
    "d = np.linspace(1,100,10)\n",
    "print(d)\n",
    "\n",
    "#  linspace allows you to specify the number of steps. arange allows you to specify the size of the steps.\n",
    "a = np.arange(1,13,1)\n",
    "print(a)\n"
   ]
  },
  {
   "cell_type": "code",
   "execution_count": null,
   "id": "b7a7e6e6",
   "metadata": {},
   "outputs": [],
   "source": []
  }
 ],
 "metadata": {
  "kernelspec": {
   "display_name": "Python 3 (ipykernel)",
   "language": "python",
   "name": "python3"
  },
  "language_info": {
   "codemirror_mode": {
    "name": "ipython",
    "version": 3
   },
   "file_extension": ".py",
   "mimetype": "text/x-python",
   "name": "python",
   "nbconvert_exporter": "python",
   "pygments_lexer": "ipython3",
   "version": "3.11.2"
  }
 },
 "nbformat": 4,
 "nbformat_minor": 5
}
